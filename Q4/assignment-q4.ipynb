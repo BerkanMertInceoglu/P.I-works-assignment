{
  "metadata": {
    "kernelspec": {
      "name": "python",
      "display_name": "Python (Pyodide)",
      "language": "python"
    },
    "language_info": {
      "codemirror_mode": {
        "name": "python",
        "version": 3
      },
      "file_extension": ".py",
      "mimetype": "text/x-python",
      "name": "python",
      "nbconvert_exporter": "python",
      "pygments_lexer": "ipython3",
      "version": "3.8"
    }
  },
  "nbformat_minor": 5,
  "nbformat": 4,
  "cells": [
    {
      "cell_type": "code",
      "source": "import pandas as pd ",
      "metadata": {
        "trusted": true
      },
      "execution_count": 1,
      "outputs": [],
      "id": "14dec813-e56f-4e7d-81e4-fef0738c78e7"
    },
    {
      "cell_type": "code",
      "source": "df = pd.read_csv('country_vaccination_stats.csv')",
      "metadata": {
        "trusted": true
      },
      "execution_count": 4,
      "outputs": [],
      "id": "d04a2378-c997-40f1-b2f5-f6442c80538f"
    },
    {
      "cell_type": "code",
      "source": "df.isna().sum()",
      "metadata": {
        "trusted": true
      },
      "execution_count": 5,
      "outputs": [
        {
          "execution_count": 5,
          "output_type": "execute_result",
          "data": {
            "text/plain": "country                0\ndate                   0\ndaily_vaccinations    60\nvaccines               0\ndtype: int64"
          },
          "metadata": {}
        }
      ],
      "id": "d1d4301f-464a-45ba-8c31-936c9b70d452"
    },
    {
      "cell_type": "code",
      "source": "df.info()",
      "metadata": {
        "trusted": true
      },
      "execution_count": 6,
      "outputs": [
        {
          "name": "stdout",
          "text": "<class 'pandas.core.frame.DataFrame'>\nRangeIndex: 1502 entries, 0 to 1501\nData columns (total 4 columns):\n #   Column              Non-Null Count  Dtype  \n---  ------              --------------  -----  \n 0   country             1502 non-null   object \n 1   date                1502 non-null   object \n 2   daily_vaccinations  1442 non-null   float64\n 3   vaccines            1502 non-null   object \ndtypes: float64(1), object(3)\nmemory usage: 29.4+ KB\n",
          "output_type": "stream"
        }
      ],
      "id": "2537092e-29af-4f55-8882-3f683cf8c844"
    },
    {
      "cell_type": "code",
      "source": "df.daily_vaccinations = df.daily_vaccinations.fillna(value=0.0)",
      "metadata": {
        "trusted": true
      },
      "execution_count": 7,
      "outputs": [],
      "id": "f32edf57-22a9-4bbe-ab93-f93d88fd8d1c"
    },
    {
      "cell_type": "code",
      "source": "df.isna().sum()",
      "metadata": {
        "trusted": true
      },
      "execution_count": 11,
      "outputs": [
        {
          "execution_count": 11,
          "output_type": "execute_result",
          "data": {
            "text/plain": "country               0\ndate                  0\ndaily_vaccinations    0\nvaccines              0\ndtype: int64"
          },
          "metadata": {}
        }
      ],
      "id": "376dee4b-1a23-4927-9e1d-a67de7f40040"
    },
    {
      "cell_type": "code",
      "source": "df.isna().sum().any()",
      "metadata": {
        "trusted": true
      },
      "execution_count": 9,
      "outputs": [
        {
          "execution_count": 9,
          "output_type": "execute_result",
          "data": {
            "text/plain": "False"
          },
          "metadata": {}
        }
      ],
      "id": "d5e67532-3387-4e1a-b38b-0a25d93c91d9"
    },
    {
      "cell_type": "code",
      "source": "df.head()",
      "metadata": {
        "trusted": true
      },
      "execution_count": 10,
      "outputs": [
        {
          "execution_count": 10,
          "output_type": "execute_result",
          "data": {
            "text/plain": "     country        date  daily_vaccinations   vaccines\n0  Argentina  12/29/2020                 0.0  Sputnik V\n1  Argentina  12/30/2020             15656.0  Sputnik V\n2  Argentina  12/31/2020             15656.0  Sputnik V\n3  Argentina    1/1/2021             11070.0  Sputnik V\n4  Argentina    1/2/2021              8776.0  Sputnik V",
            "text/html": "<div>\n<style scoped>\n    .dataframe tbody tr th:only-of-type {\n        vertical-align: middle;\n    }\n\n    .dataframe tbody tr th {\n        vertical-align: top;\n    }\n\n    .dataframe thead th {\n        text-align: right;\n    }\n</style>\n<table border=\"1\" class=\"dataframe\">\n  <thead>\n    <tr style=\"text-align: right;\">\n      <th></th>\n      <th>country</th>\n      <th>date</th>\n      <th>daily_vaccinations</th>\n      <th>vaccines</th>\n    </tr>\n  </thead>\n  <tbody>\n    <tr>\n      <th>0</th>\n      <td>Argentina</td>\n      <td>12/29/2020</td>\n      <td>0.0</td>\n      <td>Sputnik V</td>\n    </tr>\n    <tr>\n      <th>1</th>\n      <td>Argentina</td>\n      <td>12/30/2020</td>\n      <td>15656.0</td>\n      <td>Sputnik V</td>\n    </tr>\n    <tr>\n      <th>2</th>\n      <td>Argentina</td>\n      <td>12/31/2020</td>\n      <td>15656.0</td>\n      <td>Sputnik V</td>\n    </tr>\n    <tr>\n      <th>3</th>\n      <td>Argentina</td>\n      <td>1/1/2021</td>\n      <td>11070.0</td>\n      <td>Sputnik V</td>\n    </tr>\n    <tr>\n      <th>4</th>\n      <td>Argentina</td>\n      <td>1/2/2021</td>\n      <td>8776.0</td>\n      <td>Sputnik V</td>\n    </tr>\n  </tbody>\n</table>\n</div>"
          },
          "metadata": {}
        }
      ],
      "id": "de58d6ce-e37f-4503-9043-59c9e898c72b"
    },
    {
      "cell_type": "code",
      "source": "",
      "metadata": {},
      "execution_count": null,
      "outputs": [],
      "id": "e4102abd-1d3c-4731-98e0-9a29f99afac4"
    }
  ]
}