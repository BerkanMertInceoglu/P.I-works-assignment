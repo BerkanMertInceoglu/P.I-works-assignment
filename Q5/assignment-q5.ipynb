{
 "cells": [
  {
   "cell_type": "code",
   "execution_count": 1,
   "id": "bb656a44-357c-4bde-9777-29baabdf7c4f",
   "metadata": {},
   "outputs": [],
   "source": [
    "import pandas as pd "
   ]
  },
  {
   "cell_type": "code",
   "execution_count": 2,
   "id": "d04a2378-c997-40f1-b2f5-f6442c80538f",
   "metadata": {},
   "outputs": [],
   "source": [
    "df = pd.read_csv('country_vaccination_stats_updated.csv') \n",
    "#Used CSV file filled with NaN from Assignment-4"
   ]
  },
  {
   "cell_type": "code",
   "execution_count": 3,
   "id": "e4102abd-1d3c-4731-98e0-9a29f99afac4",
   "metadata": {},
   "outputs": [],
   "source": [
    "medians = dict()\n",
    "for country in df.country.unique():\n",
    "    medians[country] = df[df.country == country].daily_vaccinations.median()"
   ]
  },
  {
   "cell_type": "code",
   "execution_count": 4,
   "id": "88153b97-fde9-424e-b922-191aaee15066",
   "metadata": {},
   "outputs": [],
   "source": [
    "medians_series = pd.Series(medians)"
   ]
  },
  {
   "cell_type": "code",
   "execution_count": 5,
   "id": "706b3d52-d353-46d5-a6b1-a98e9c4b80a4",
   "metadata": {},
   "outputs": [
    {
     "data": {
      "text/plain": [
       "United States    378253.0\n",
       "China            276786.0\n",
       "India            173922.0\n",
       "dtype: float64"
      ]
     },
     "execution_count": 5,
     "metadata": {},
     "output_type": "execute_result"
    }
   ],
   "source": [
    "medians_series.nlargest(n=3)"
   ]
  },
  {
   "cell_type": "code",
   "execution_count": null,
   "id": "6aaccb52-98e2-4902-9c59-2eacdad7f7ef",
   "metadata": {},
   "outputs": [],
   "source": []
  }
 ],
 "metadata": {
  "kernelspec": {
   "display_name": "jupyterEnv",
   "language": "python",
   "name": "jupyterenv"
  },
  "language_info": {
   "codemirror_mode": {
    "name": "ipython",
    "version": 3
   },
   "file_extension": ".py",
   "mimetype": "text/x-python",
   "name": "python",
   "nbconvert_exporter": "python",
   "pygments_lexer": "ipython3",
   "version": "3.10.6"
  }
 },
 "nbformat": 4,
 "nbformat_minor": 5
}
